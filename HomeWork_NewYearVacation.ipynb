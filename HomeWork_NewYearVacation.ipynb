{
 "cells": [
  {
   "cell_type": "code",
   "execution_count": 1,
   "id": "11334d89",
   "metadata": {},
   "outputs": [],
   "source": [
    "#1.Function which will take string and return length of it without using inbuilt function length"
   ]
  },
  {
   "cell_type": "code",
   "execution_count": 2,
   "id": "0ce073b1",
   "metadata": {},
   "outputs": [],
   "source": [
    "def stringlength(s):\n",
    "    \"\"\" This is the function which will return length of string\"\"\"\n",
    "    if type(s) == str:\n",
    "        length = 0\n",
    "        for i in s:\n",
    "            length=length+1\n",
    "        return length\n",
    "        \n",
    "    \n",
    "\n",
    "    "
   ]
  },
  {
   "cell_type": "code",
   "execution_count": 4,
   "id": "d2ca820a",
   "metadata": {},
   "outputs": [
    {
     "data": {
      "text/plain": [
       "9"
      ]
     },
     "execution_count": 4,
     "metadata": {},
     "output_type": "execute_result"
    }
   ],
   "source": [
    "stringlength('AspenTech')"
   ]
  },
  {
   "cell_type": "code",
   "execution_count": null,
   "id": "f6a66b60",
   "metadata": {},
   "outputs": [],
   "source": []
  },
  {
   "cell_type": "code",
   "execution_count": 12,
   "id": "830f96ba",
   "metadata": {},
   "outputs": [],
   "source": [
    "# 3.Write a fun which will take input as a dict and give me out as a list of all the values \n",
    "#even in case of 2 level nesting it should work . "
   ]
  },
  {
   "cell_type": "code",
   "execution_count": 23,
   "id": "97783805",
   "metadata": {},
   "outputs": [],
   "source": [
    "def returndictitems(d):\n",
    "    \"\"\" Function will take input as Dict and will give Output as list of all values\"\"\"\n",
    "    if type(d) == dict:\n",
    "        l = []\n",
    "        for i in d:\n",
    "            #print(d[i])\n",
    "            if type(d[i]) == dict:\n",
    "                for j in d[i]:\n",
    "                    #print(d[i][j])\n",
    "                    l.append(d[i][j])\n",
    "            else:\n",
    "                l.append(d[i])\n",
    "    return l\n",
    "           \n",
    "    "
   ]
  },
  {
   "cell_type": "code",
   "execution_count": 24,
   "id": "37ddc463",
   "metadata": {},
   "outputs": [
    {
     "data": {
      "text/plain": [
       "[12, 13, 'Pandurang', 'AspenTech']"
      ]
     },
     "execution_count": 24,
     "metadata": {},
     "output_type": "execute_result"
    }
   ],
   "source": [
    "returndictitems({\"Key1\":12,\"key2\":13,\"key3\":{\"Key4\":\"Pandurang\",\"Key5\":\"AspenTech\"}})"
   ]
  },
  {
   "cell_type": "code",
   "execution_count": null,
   "id": "f9aafcb5",
   "metadata": {},
   "outputs": [],
   "source": []
  },
  {
   "cell_type": "code",
   "execution_count": 25,
   "id": "fa81c85c",
   "metadata": {},
   "outputs": [],
   "source": [
    "# 4. write a fun which will take another function as an input and return me an output \n"
   ]
  },
  {
   "cell_type": "code",
   "execution_count": 30,
   "id": "4dfc2c88",
   "metadata": {},
   "outputs": [],
   "source": [
    "def nestfuncall(f):\n",
    "    \n",
    "    \"\"\"Function which will take another function as an input\"\"\"\n",
    "    Radius = 4\n",
    "    AreaCircle = f * Radius*Radius\n",
    "    return AreaCircle\n",
    "\n",
    "    \n",
    "    "
   ]
  },
  {
   "cell_type": "code",
   "execution_count": 28,
   "id": "3004a433",
   "metadata": {},
   "outputs": [],
   "source": [
    "def pi():\n",
    "    p = 3.14\n",
    "    return p"
   ]
  },
  {
   "cell_type": "code",
   "execution_count": 29,
   "id": "c96d491b",
   "metadata": {},
   "outputs": [
    {
     "data": {
      "text/plain": [
       "3.14"
      ]
     },
     "execution_count": 29,
     "metadata": {},
     "output_type": "execute_result"
    }
   ],
   "source": [
    "pi()"
   ]
  },
  {
   "cell_type": "code",
   "execution_count": 31,
   "id": "50ac97f2",
   "metadata": {},
   "outputs": [
    {
     "data": {
      "text/plain": [
       "50.24"
      ]
     },
     "execution_count": 31,
     "metadata": {},
     "output_type": "execute_result"
    }
   ],
   "source": [
    "nestfuncall(pi())"
   ]
  },
  {
   "cell_type": "code",
   "execution_count": null,
   "id": "2cd9c1a1",
   "metadata": {},
   "outputs": [],
   "source": []
  },
  {
   "cell_type": "code",
   "execution_count": 33,
   "id": "03b51933",
   "metadata": {},
   "outputs": [],
   "source": [
    "#5.write a function whihc will take multiple list as a input and give me concatnation of all the element as \n",
    "#and output"
   ]
  },
  {
   "cell_type": "code",
   "execution_count": 35,
   "id": "e67acea7",
   "metadata": {},
   "outputs": [],
   "source": [
    "def multlist(a,b):\n",
    "    if type(a)==list and type(b) == list:\n",
    "        a.extend(b)\n",
    "    return a\n",
    "    "
   ]
  },
  {
   "cell_type": "code",
   "execution_count": 36,
   "id": "d36097c4",
   "metadata": {},
   "outputs": [
    {
     "data": {
      "text/plain": [
       "[12, 3, 4, 5, 6, 'Pandurang', 'AspenTech', 10045, 1, 2, 3]"
      ]
     },
     "execution_count": 36,
     "metadata": {},
     "output_type": "execute_result"
    }
   ],
   "source": [
    "multlist([12,3,4,5,6],[\"Pandurang\",\"AspenTech\",10045,1,2,3])"
   ]
  },
  {
   "cell_type": "code",
   "execution_count": null,
   "id": "ef8c7944",
   "metadata": {},
   "outputs": [],
   "source": []
  },
  {
   "cell_type": "code",
   "execution_count": 37,
   "id": "f1ea9993",
   "metadata": {},
   "outputs": [],
   "source": [
    "#6.write a function which will be able to take a list as an input return an index of each element \n",
    "#like a inbuilt index function but even if we have repetative element it should return index \n",
    "#"
   ]
  },
  {
   "cell_type": "code",
   "execution_count": 38,
   "id": "b0fd364d",
   "metadata": {},
   "outputs": [],
   "source": [
    "l = [1,2,3,3,4]"
   ]
  },
  {
   "cell_type": "code",
   "execution_count": 44,
   "id": "34dee2b5",
   "metadata": {},
   "outputs": [
    {
     "data": {
      "text/plain": [
       "2"
      ]
     },
     "execution_count": 44,
     "metadata": {},
     "output_type": "execute_result"
    }
   ],
   "source": [
    "l.index(3)"
   ]
  },
  {
   "cell_type": "code",
   "execution_count": 109,
   "id": "34039ca3",
   "metadata": {},
   "outputs": [],
   "source": [
    "def returnListIndex(l,s):\n",
    "    \"\"\"Function which will return index of the list item\"\"\"\n",
    "    if type(l) == list:\n",
    "        f = 0\n",
    "        for i in l:\n",
    "            \n",
    "            if i == s:\n",
    "                print(f)\n",
    "            f = f + 1\n",
    "        \n",
    "                  "
   ]
  },
  {
   "cell_type": "code",
   "execution_count": 110,
   "id": "ebeab1b8",
   "metadata": {},
   "outputs": [
    {
     "name": "stdout",
     "output_type": "stream",
     "text": [
      "1\n",
      "2\n"
     ]
    }
   ],
   "source": [
    "returnListIndex([4,2,2,3],2)"
   ]
  },
  {
   "cell_type": "code",
   "execution_count": null,
   "id": "00585182",
   "metadata": {},
   "outputs": [],
   "source": []
  },
  {
   "cell_type": "code",
   "execution_count": 111,
   "id": "c16fa7fc",
   "metadata": {},
   "outputs": [],
   "source": [
    "#7.Write a function which will whould return list of all the file name from a directory . \n"
   ]
  },
  {
   "cell_type": "code",
   "execution_count": 114,
   "id": "0d05b0fa",
   "metadata": {},
   "outputs": [],
   "source": [
    "def returnFilesList(path):\n",
    "    \"\"\"Function which will return list of all the files from directory\"\"\"\n",
    "    #Import OS module\n",
    "    import os\n",
    "    dir_list = os.listdir(path)\n",
    "    print(\"Files and directories in\",path)\n",
    "    print(dir_list)\n",
    "    "
   ]
  },
  {
   "cell_type": "code",
   "execution_count": 118,
   "id": "38780fe3",
   "metadata": {},
   "outputs": [
    {
     "name": "stdout",
     "output_type": "stream",
     "text": [
      "Files and directories in C:\\Temp\n",
      "['A1PE BI Dashboard User Manual.pdf', 'A1PEBI', 'Aspen Manufacturing Master Data Manager 64bit V12 CP1', 'Aspen Manufacturing Master Data Manager 64bit V12 CP1.zip', 'AspenTech', 'From Email-Text.txt', 'MultiCase', 'RE_ Latest a1PEBI V11 kit for Pandurang.msg']\n"
     ]
    }
   ],
   "source": [
    "returnFilesList('C:\\Temp')"
   ]
  },
  {
   "cell_type": "code",
   "execution_count": null,
   "id": "6edd66f3",
   "metadata": {},
   "outputs": [],
   "source": []
  },
  {
   "cell_type": "code",
   "execution_count": 119,
   "id": "a3cab271",
   "metadata": {},
   "outputs": [],
   "source": [
    "#8.write a function which will be able to show your system configuration . "
   ]
  },
  {
   "cell_type": "code",
   "execution_count": 142,
   "id": "945f16d5",
   "metadata": {},
   "outputs": [],
   "source": [
    "def showSystemConfig():\n",
    "    \"\"\"Function to show system configuration\"\"\"\n",
    "    import subprocess\n",
    "    id = subprocess.check_output(['systeminfo']).decode('utf-8').split('\\n')\n",
    "    new = []\n",
    "    \n",
    "    for item in id:\n",
    "        new.append(str(item.split(\"\\r\")[::-1]))\n",
    "        \n",
    "    for i in new:\n",
    "        print(i[2:-2])"
   ]
  },
  {
   "cell_type": "code",
   "execution_count": 143,
   "id": "f41ebe1d",
   "metadata": {},
   "outputs": [
    {
     "name": "stdout",
     "output_type": "stream",
     "text": [
      "', '\n",
      "', 'Host Name:                 MES_V12_AIOT\n",
      "', 'OS Name:                   Microsoft Windows Server 2012 R2 Standard\n",
      "', 'OS Version:                6.3.9600 N/A Build 9600\n",
      "', 'OS Manufacturer:           Microsoft Corporation\n",
      "', 'OS Configuration:          Primary Domain Controller\n",
      "', 'OS Build Type:             Multiprocessor Free\n",
      "', 'Registered Owner:          Windows User\n",
      "', 'Registered Organization:   \n",
      "', 'Product ID:                00252-00105-99739-AA233\n",
      "', 'Original Install Date:     1/10/2017, 3:43:20 AM\n",
      "', 'System Boot Time:          12/31/2021, 6:23:13 PM\n",
      "', 'System Manufacturer:       Microsoft Corporation\n",
      "', 'System Model:              Virtual Machine\n",
      "', 'System Type:               x64-based PC\n",
      "', 'Processor(s):              1 Processor(s) Installed.\n",
      "', '                           [01]: Intel64 Family 6 Model 78 Stepping 3 GenuineIntel ~2808 Mhz\n",
      "', 'BIOS Version:              American Megatrends Inc. 090007 , 6/2/2017\n",
      "', 'Windows Directory:         C:\\\\Windows\n",
      "', 'System Directory:          C:\\\\Windows\\\\system32\n",
      "', 'Boot Device:               \\\\Device\\\\HarddiskVolume1\n",
      "', 'System Locale:             en-us;English (United States)\n",
      "', 'Input Locale:              en-us;English (United States)\n",
      "', 'Time Zone:                 (UTC-08:00) Pacific Time (US & Canada)\n",
      "', 'Total Physical Memory:     4,096 MB\n",
      "', 'Available Physical Memory: 647 MB\n",
      "', 'Virtual Memory: Max Size:  8,192 MB\n",
      "', 'Virtual Memory: Available: 2,408 MB\n",
      "', 'Virtual Memory: In Use:    5,784 MB\n",
      "', 'Page File Location(s):     E:\\\\pagefile.sys\n",
      "', 'Domain:                    corp.mes.com\n",
      "', 'Logon Server:              \\\\\\\\MES_V12_AIOT\n",
      "', 'Hotfix(s):                 112 Hotfix(s) Installed.\n",
      "', '                           [01]: KB4057903\n",
      "', '                           [02]: KB2894852\n",
      "', '                           [03]: KB2919355\n",
      "', '                           [04]: KB2919442\n",
      "', '                           [05]: KB2938066\n",
      "', '                           [06]: KB2954879\n",
      "', '                           [07]: KB2966826\n",
      "', '                           [08]: KB2966828\n",
      "', '                           [09]: KB2967917\n",
      "', '                           [10]: KB2968296\n",
      "', '                           [11]: KB2972103\n",
      "', '                           [12]: KB2989930\n",
      "', '                           [13]: KB2999226\n",
      "', '                           [14]: KB3000483\n",
      "', '                           [15]: KB3000850\n",
      "', '                           [16]: KB3003057\n",
      "', '                           [17]: KB3012702\n",
      "', '                           [18]: KB3013172\n",
      "', '                           [19]: KB3013791\n",
      "', '                           [20]: KB3014442\n",
      "', '                           [21]: KB3019978\n",
      "', '                           [22]: KB3023219\n",
      "', '                           [23]: KB3023266\n",
      "', '                           [24]: KB3024751\n",
      "', '                           [25]: KB3024755\n",
      "', '                           [26]: KB3030947\n",
      "', '                           [27]: KB3033446\n",
      "', '                           [28]: KB3036612\n",
      "', '                           [29]: KB3037576\n",
      "', '                           [30]: KB3038002\n",
      "', '                           [31]: KB3042085\n",
      "', '                           [32]: KB3043812\n",
      "', '                           [33]: KB3044374\n",
      "', '                           [34]: KB3044673\n",
      "', '                           [35]: KB3045634\n",
      "', '                           [36]: KB3045685\n",
      "', '                           [37]: KB3045717\n",
      "', '                           [38]: KB3045719\n",
      "', '                           [39]: KB3045999\n",
      "', '                           [40]: KB3046017\n",
      "', '                           [41]: KB3046737\n",
      "', '                           [42]: KB3054169\n",
      "', '                           [43]: KB3054203\n",
      "', '                           [44]: KB3054256\n",
      "', '                           [45]: KB3054464\n",
      "', '                           [46]: KB3055323\n",
      "', '                           [47]: KB3059317\n",
      "', '                           [48]: KB3060681\n",
      "', '                           [49]: KB3060793\n",
      "', '                           [50]: KB3061512\n",
      "', '                           [51]: KB3063843\n",
      "', '                           [52]: KB3071756\n",
      "', '                           [53]: KB3072307\n",
      "', '                           [54]: KB3074545\n",
      "', '                           [55]: KB3077715\n",
      "', '                           [56]: KB3078405\n",
      "', '                           [57]: KB3080149\n",
      "', '                           [58]: KB3084135\n",
      "', '                           [59]: KB3086255\n",
      "', '                           [60]: KB3087137\n",
      "', '                           [61]: KB3091297\n",
      "', '                           [62]: KB3094486\n",
      "', '                           [63]: KB3097992\n",
      "', '                           [64]: KB3100473\n",
      "', '                           [65]: KB3103616\n",
      "', '                           [66]: KB3103696\n",
      "', '                           [67]: KB3103709\n",
      "', '                           [68]: KB3109103\n",
      "', '                           [69]: KB3109976\n",
      "', '                           [70]: KB3110329\n",
      "', '                           [71]: KB3115224\n",
      "', '                           [72]: KB3121261\n",
      "', '                           [73]: KB3123245\n",
      "', '                           [74]: KB3126434\n",
      "', '                           [75]: KB3126587\n",
      "', '                           [76]: KB3127222\n",
      "', '                           [77]: KB3133043\n",
      "', '                           [78]: KB3133690\n",
      "', '                           [79]: KB3134179\n",
      "', '                           [80]: KB3137728\n",
      "', '                           [81]: KB3138602\n",
      "', '                           [82]: KB3139914\n",
      "', '                           [83]: KB3140219\n",
      "', '                           [84]: KB3140234\n",
      "', '                           [85]: KB3145384\n",
      "', '                           [86]: KB3145432\n",
      "', '                           [87]: KB3146604\n",
      "', '                           [88]: KB3146723\n",
      "', '                           [89]: KB3146751\n",
      "', '                           [90]: KB3147071\n",
      "', '                           [91]: KB3151864\n",
      "', '                           [92]: KB3156059\n",
      "', '                           [93]: KB3159398\n",
      "', '                           [94]: KB3161949\n",
      "', '                           [95]: KB3172614\n",
      "', '                           [96]: KB3173424\n",
      "', '                           [97]: KB3175024\n",
      "', '                           [98]: KB3178539\n",
      "', '                           [99]: KB3179574\n",
      "', '                           [100]: KB3185319\n",
      "', '                           [101]: KB4033428\n",
      "', '                           [102]: KB4040981\n",
      "', '                           [103]: KB4486105\n",
      "', '                           [104]: KB4535680\n",
      "', '                           [105]: KB4566425\n",
      "', '                           [106]: KB4578953\n",
      "', '                           [107]: KB4601058\n",
      "', '                           [108]: KB5001403\n",
      "', '                           [109]: KB5006067\n",
      "', '                           [110]: KB5007154\n",
      "', '                           [111]: KB5008263\n",
      "', '                           [112]: KB5007247\n",
      "', 'Network Card(s):           1 NIC(s) Installed.\n",
      "', '                           [01]: Microsoft Hyper-V Network Adapter\n",
      "', '                                 Connection Name: Ethernet 6\n",
      "', '                                 DHCP Enabled:    No\n",
      "', '                                 IP address(es)\n",
      "', '                                 [01]: 172.28.212.57\n",
      "', '                                 [02]: fe80::3c5a:b7bb:37a4:6618\n",
      "', 'Hyper-V Requirements:      A hypervisor has been detected. Features required for Hyper-V will not be displayed.\n",
      "\n"
     ]
    }
   ],
   "source": [
    "showSystemConfig()"
   ]
  },
  {
   "cell_type": "code",
   "execution_count": null,
   "id": "1bcd0f1f",
   "metadata": {},
   "outputs": [],
   "source": []
  },
  {
   "cell_type": "code",
   "execution_count": null,
   "id": "1a378375",
   "metadata": {},
   "outputs": [],
   "source": [
    "#9.write a function which will be able to show date and time"
   ]
  },
  {
   "cell_type": "code",
   "execution_count": 147,
   "id": "eaa3bb8d",
   "metadata": {},
   "outputs": [],
   "source": [
    "def showCurrentDateTime():\n",
    "    \"\"\"Function to show current date and time\"\"\"\n",
    "    #Import Date time module\n",
    "    import datetime\n",
    "    current_time = datetime.datetime.now()\n",
    "    print(\"Current Time is\")\n",
    "    print(current_time)"
   ]
  },
  {
   "cell_type": "code",
   "execution_count": 148,
   "id": "33092b4a",
   "metadata": {},
   "outputs": [
    {
     "name": "stdout",
     "output_type": "stream",
     "text": [
      "Current Time is\n",
      "2022-01-01 12:14:01.044138\n"
     ]
    }
   ],
   "source": [
    "showCurrentDateTime()"
   ]
  },
  {
   "cell_type": "code",
   "execution_count": 6,
   "id": "c8570e91",
   "metadata": {},
   "outputs": [],
   "source": [
    "def showcurrentDateTimeByTimezone(t):\n",
    "    \"\"\"Function to show current date and time by timezone\"\"\"\n",
    "    #for now()\n",
    "    import datetime\n",
    "    #for timezone()\n",
    "    import pytz\n",
    "    current_time = datetime.datetime.now(pytz.timezone(t))\n",
    "    \n",
    "    print(\"The current time in\",t)\n",
    "    print(current_time)"
   ]
  },
  {
   "cell_type": "code",
   "execution_count": 7,
   "id": "ad2624c6",
   "metadata": {},
   "outputs": [
    {
     "name": "stdout",
     "output_type": "stream",
     "text": [
      "The current time in Asia/kolkata\n",
      "2022-01-02 23:53:45.790968+05:30\n"
     ]
    }
   ],
   "source": [
    "showcurrentDateTimeByTimezone('Asia/kolkata')"
   ]
  },
  {
   "cell_type": "code",
   "execution_count": null,
   "id": "90fba402",
   "metadata": {},
   "outputs": [],
   "source": []
  },
  {
   "cell_type": "code",
   "execution_count": 161,
   "id": "b27122c8",
   "metadata": {},
   "outputs": [],
   "source": [
    "#10.write a function whihc will be able to read a image file and show it to you."
   ]
  },
  {
   "cell_type": "code",
   "execution_count": 4,
   "id": "d0fbb3c0",
   "metadata": {},
   "outputs": [],
   "source": [
    "def readImage(path):\n",
    "    \"\"\"Function to read Image file\"\"\"\n",
    "    #Imports PIL module\n",
    "    from PIL import Image\n",
    "    #Open method used to open different extension image file\n",
    "    im = Image.open(path)\n",
    "    #Show method will show image in image viewer\n",
    "    im.show()"
   ]
  },
  {
   "cell_type": "code",
   "execution_count": 5,
   "id": "68869b26",
   "metadata": {},
   "outputs": [],
   "source": [
    "readImage(r\"C:\\Users\\Administrator\\Pictures\\SQL Install 1.jpg\")"
   ]
  },
  {
   "cell_type": "code",
   "execution_count": null,
   "id": "2baa0e24",
   "metadata": {},
   "outputs": [],
   "source": []
  },
  {
   "cell_type": "code",
   "execution_count": 165,
   "id": "bac26a22",
   "metadata": {},
   "outputs": [],
   "source": [
    "#Using OpenCV"
   ]
  },
  {
   "cell_type": "code",
   "execution_count": 1,
   "id": "f1d96328",
   "metadata": {},
   "outputs": [],
   "source": [
    "def readImageUsingOpenCV(path):\n",
    "    import cv2\n",
    "    img = cv2.imread(path)\n",
    "    cv2.imshow('DisplayImage',img)"
   ]
  },
  {
   "cell_type": "code",
   "execution_count": 2,
   "id": "425955ba",
   "metadata": {},
   "outputs": [
    {
     "ename": "ImportError",
     "evalue": "DLL load failed while importing cv2: The specified module could not be found.",
     "output_type": "error",
     "traceback": [
      "\u001b[1;31m---------------------------------------------------------------------------\u001b[0m",
      "\u001b[1;31mImportError\u001b[0m                               Traceback (most recent call last)",
      "\u001b[1;32mC:\\Users\\ADMINI~1\\AppData\\Local\\Temp/ipykernel_2996/2203101011.py\u001b[0m in \u001b[0;36m<module>\u001b[1;34m\u001b[0m\n\u001b[1;32m----> 1\u001b[1;33m \u001b[0mreadImageUsingOpenCV\u001b[0m\u001b[1;33m(\u001b[0m\u001b[1;34mr\"C:\\Users\\Administrator\\Pictures\\SQL Install 1.jpg\"\u001b[0m\u001b[1;33m)\u001b[0m\u001b[1;33m\u001b[0m\u001b[1;33m\u001b[0m\u001b[0m\n\u001b[0m",
      "\u001b[1;32mC:\\Users\\ADMINI~1\\AppData\\Local\\Temp/ipykernel_2996/3761498651.py\u001b[0m in \u001b[0;36mreadImageUsingOpenCV\u001b[1;34m(path)\u001b[0m\n\u001b[0;32m      1\u001b[0m \u001b[1;32mdef\u001b[0m \u001b[0mreadImageUsingOpenCV\u001b[0m\u001b[1;33m(\u001b[0m\u001b[0mpath\u001b[0m\u001b[1;33m)\u001b[0m\u001b[1;33m:\u001b[0m\u001b[1;33m\u001b[0m\u001b[1;33m\u001b[0m\u001b[0m\n\u001b[1;32m----> 2\u001b[1;33m     \u001b[1;32mimport\u001b[0m \u001b[0mcv2\u001b[0m\u001b[1;33m\u001b[0m\u001b[1;33m\u001b[0m\u001b[0m\n\u001b[0m\u001b[0;32m      3\u001b[0m     \u001b[0mimg\u001b[0m \u001b[1;33m=\u001b[0m \u001b[0mcv2\u001b[0m\u001b[1;33m.\u001b[0m\u001b[0mimread\u001b[0m\u001b[1;33m(\u001b[0m\u001b[0mpath\u001b[0m\u001b[1;33m)\u001b[0m\u001b[1;33m\u001b[0m\u001b[1;33m\u001b[0m\u001b[0m\n\u001b[0;32m      4\u001b[0m     \u001b[0mcv2\u001b[0m\u001b[1;33m.\u001b[0m\u001b[0mimshow\u001b[0m\u001b[1;33m(\u001b[0m\u001b[1;34m'DisplayImage'\u001b[0m\u001b[1;33m,\u001b[0m\u001b[0mimg\u001b[0m\u001b[1;33m)\u001b[0m\u001b[1;33m\u001b[0m\u001b[1;33m\u001b[0m\u001b[0m\n",
      "\u001b[1;32mC:\\ProgramData\\Anaconda3\\lib\\site-packages\\cv2\\__init__.py\u001b[0m in \u001b[0;36m<module>\u001b[1;34m\u001b[0m\n\u001b[0;32m      6\u001b[0m \u001b[1;32mimport\u001b[0m \u001b[0msys\u001b[0m\u001b[1;33m\u001b[0m\u001b[1;33m\u001b[0m\u001b[0m\n\u001b[0;32m      7\u001b[0m \u001b[1;33m\u001b[0m\u001b[0m\n\u001b[1;32m----> 8\u001b[1;33m \u001b[1;32mfrom\u001b[0m \u001b[1;33m.\u001b[0m\u001b[0mcv2\u001b[0m \u001b[1;32mimport\u001b[0m \u001b[1;33m*\u001b[0m\u001b[1;33m\u001b[0m\u001b[1;33m\u001b[0m\u001b[0m\n\u001b[0m\u001b[0;32m      9\u001b[0m \u001b[1;32mfrom\u001b[0m \u001b[1;33m.\u001b[0m\u001b[0mcv2\u001b[0m \u001b[1;32mimport\u001b[0m \u001b[0m_registerMatType\u001b[0m\u001b[1;33m\u001b[0m\u001b[1;33m\u001b[0m\u001b[0m\n\u001b[0;32m     10\u001b[0m \u001b[1;32mfrom\u001b[0m \u001b[1;33m.\u001b[0m \u001b[1;32mimport\u001b[0m \u001b[0mmat_wrapper\u001b[0m\u001b[1;33m\u001b[0m\u001b[1;33m\u001b[0m\u001b[0m\n",
      "\u001b[1;31mImportError\u001b[0m: DLL load failed while importing cv2: The specified module could not be found."
     ]
    }
   ],
   "source": [
    "readImageUsingOpenCV(r\"C:\\Users\\Administrator\\Pictures\\SQL Install 1.jpg\")"
   ]
  },
  {
   "cell_type": "code",
   "execution_count": null,
   "id": "a36cf597",
   "metadata": {},
   "outputs": [],
   "source": []
  },
  {
   "cell_type": "code",
   "execution_count": 3,
   "id": "5167333b",
   "metadata": {},
   "outputs": [],
   "source": [
    "#11. write a function which can read video file and play for you "
   ]
  },
  {
   "cell_type": "code",
   "execution_count": null,
   "id": "962a622c",
   "metadata": {},
   "outputs": [],
   "source": []
  },
  {
   "cell_type": "code",
   "execution_count": null,
   "id": "82373c4a",
   "metadata": {},
   "outputs": [],
   "source": []
  },
  {
   "cell_type": "code",
   "execution_count": 4,
   "id": "5fb05a01",
   "metadata": {},
   "outputs": [],
   "source": [
    "#12.write a function which can move a file from one directory to another directory"
   ]
  },
  {
   "cell_type": "code",
   "execution_count": 17,
   "id": "0d8afe6c",
   "metadata": {},
   "outputs": [],
   "source": [
    "def moveFiles(src,dest):\n",
    "    \"\"\"Function to move files from one directory to another\"\"\"\n",
    "    import os\n",
    "    import shutil\n",
    "    \n",
    "    files_list = os.listdir(src)\n",
    "    for f in files_list:\n",
    "        shutil.move(src+f,dest+f)"
   ]
  },
  {
   "cell_type": "code",
   "execution_count": 8,
   "id": "6c2cae2c",
   "metadata": {},
   "outputs": [],
   "source": [
    "moveFiles('C:/Temp/Python/src/','C:/Temp/Python/dest/')"
   ]
  },
  {
   "cell_type": "code",
   "execution_count": 9,
   "id": "721001d8",
   "metadata": {},
   "outputs": [],
   "source": [
    "#Using OS rename function"
   ]
  },
  {
   "cell_type": "code",
   "execution_count": 18,
   "id": "dd973e4c",
   "metadata": {},
   "outputs": [],
   "source": [
    "def moveFiles1(src,dest):\n",
    "    \"\"\"Function to move files from one directory to another\"\"\"\n",
    "    import os\n",
    "    import shutil\n",
    "    \n",
    "    files_list = os.listdir(src)\n",
    "    for f in files_list:\n",
    "        os.rename(src+f,dest+f)"
   ]
  },
  {
   "cell_type": "code",
   "execution_count": 11,
   "id": "9c51fcb4",
   "metadata": {},
   "outputs": [],
   "source": [
    "moveFiles('C:/Temp/Python/src/','C:/Temp/Python/dest/')"
   ]
  },
  {
   "cell_type": "code",
   "execution_count": null,
   "id": "a7f61690",
   "metadata": {},
   "outputs": [],
   "source": []
  },
  {
   "cell_type": "code",
   "execution_count": 12,
   "id": "7c8f5e99",
   "metadata": {},
   "outputs": [],
   "source": [
    "#16. write a func to read a complete PDf file . "
   ]
  },
  {
   "cell_type": "code",
   "execution_count": 22,
   "id": "b288f240",
   "metadata": {},
   "outputs": [],
   "source": [
    "def readPDF(srcPDF,pageNum):\n",
    "    \"\"\"Function to read PDF text\"\"\"\n",
    "    #import module\n",
    "    import PyPDF2\n",
    "    \n",
    "    #Create PDF file object\n",
    "    pdfFileObj = open(srcPDF,'rb')\n",
    "    \n",
    "    #create pdf reader object\n",
    "    pdfReader = PyPDF2.PdfFileReader(pdfFileObj)\n",
    "    \n",
    "    #Print number of pages in Pdf file\n",
    "    print(pdfReader.numPages)\n",
    "    \n",
    "    #create page object\n",
    "    pageObj = pdfReader.getPage(pageNum)\n",
    "    \n",
    "    #Extract text from page\n",
    "    print(pageObj.extractText())\n",
    "    \n",
    "    #Closing the pdf file object\n",
    "    pdfFileObj.close()\n",
    "    "
   ]
  },
  {
   "cell_type": "code",
   "execution_count": 24,
   "id": "a2e9e40b",
   "metadata": {},
   "outputs": [
    {
     "name": "stdout",
     "output_type": "stream",
     "text": [
      "10\n",
      "Aspen Technology\n",
      " \n",
      "mMDM Dynamic SQL Query Example\n",
      " \n",
      "Page \n",
      "2\n",
      " \n",
      "of \n",
      "10\n",
      " \n",
      " \n",
      "5.\n",
      " \n",
      "Drag and drop the \n",
      "ADOdotNet\n",
      " \n",
      "comm\n",
      "unication layer \n",
      "onto the right\n",
      "-\n",
      "side \n",
      "Member Communication \n",
      "Layers \n",
      "panel.\n",
      " \n",
      " \n",
      "6.\n",
      " \n",
      "Select the \n",
      "ADOdotNet\n",
      " \n",
      "communication layer on the right\n",
      "-\n",
      "side panel\n",
      ".  This will cause the properties \n",
      "to show in the lower left panel.\n",
      " \n",
      "7.\n",
      " \n",
      "From the \n",
      "Communication Layer Properties\n",
      " \n",
      "panel, selec\n",
      "t the ellipsis button on the \n",
      "ConnectionString\n",
      " \n",
      "property.\n",
      " \n",
      " \n",
      "8.\n",
      " \n",
      "Specify an ADO connection string similar to the following text.  Replace the \n",
      "Initial Catalog\n",
      " \n",
      "value with \n",
      "the name of the database.  Replace the \n",
      "Data Source\n",
      " \n",
      "value with the name of the RDBMS server.\n",
      " \n",
      "<a\n",
      "do_config>\n",
      " \n",
      "    \n",
      "<db_type>sql</db_type>\n",
      " \n",
      "    \n",
      "<connection Encrypted=\"False\"><![CDATA[Data Source=\n",
      "ServerName\n",
      ";User \n",
      "ID=sa;Initial Catalog=\n",
      "DatabaseName\n",
      ";Connect \n",
      "Timeout=30;Pswd=\n",
      "Password\n",
      "></connection>\n",
      " \n",
      "</ado_config>\n",
      " \n",
      "Note:\n",
      " \n",
      "\n",
      "encrypted form\n",
      ".  \n",
      "Currently \n",
      "the only \n",
      "way to obtain the \n",
      "encrypted password \n",
      "is to use \n",
      "the mMDM Administrator to create an mMDM connection to the \n",
      "database, then \n",
      "extracting the password\n",
      ".  When extracting the password, \n",
      "extract the encrypted \n",
      "string \n",
      "after the \n",
      "\n",
      "Pswd=\n",
      "\n",
      " \n",
      "parameter.  Be sure not to include the trail\n",
      "ing brackets \n",
      "(\n",
      " \n",
      "]]\n",
      " \n",
      ")\n",
      " \n",
      "that \n",
      "belong to \n",
      "the \n",
      "\n",
      "!\n",
      "[\n",
      "CDATA\n",
      "[\n",
      "\n",
      " \n",
      "XML part.  The \n",
      "file to \n",
      "extract\n",
      " \n",
      "from \n",
      "is \n",
      "the \n",
      "BPC_Default_SQL.adoconfig\n",
      " \n",
      "file in folder\n",
      ":\n",
      " \n",
      "C:\n",
      "\\\n",
      "ProgramData\n",
      "\\\n",
      "AspenTech\n",
      "\\\n",
      "Enterprise\n",
      "\\\n",
      "CDM\n",
      "\\\n",
      "V10.0\n",
      "\\\n",
      "Configuration\n",
      " \n",
      " \n",
      "If using SQL Server integrated security, use a syntax similar to this:\n",
      " \n",
      "<ado_config>\n",
      " \n",
      "\n"
     ]
    }
   ],
   "source": [
    "readPDF(\"C:\\Temp\\Python\\dest\\mMDM Dynamic SQL Query Example.pdf\",1)"
   ]
  },
  {
   "cell_type": "code",
   "execution_count": 25,
   "id": "aa6808cd",
   "metadata": {},
   "outputs": [],
   "source": [
    "#17. write a function to read a word file ."
   ]
  },
  {
   "cell_type": "code",
   "execution_count": 30,
   "id": "13a4a4d3",
   "metadata": {},
   "outputs": [],
   "source": [
    "def readWordFile(srcWordFile):\n",
    "    \"\"\"Function to read word document\"\"\"\n",
    "    #Import Document class from Docx module\n",
    "    from docx import Document\n",
    "    \n",
    "    #create an instance of word document\n",
    "    doc = Document(srcWordFile)\n",
    "    \n",
    "    \n",
    "    #for printing the complete document\n",
    "    print(\"the whole content of the document\")\n",
    "    for para in doc.paragraphs:\n",
    "        print(para.text)\n",
    "    "
   ]
  },
  {
   "cell_type": "code",
   "execution_count": 31,
   "id": "d4fa1c38",
   "metadata": {},
   "outputs": [
    {
     "name": "stdout",
     "output_type": "stream",
     "text": [
      "the whole content of the document\n",
      "\n",
      "\n",
      "\n",
      "\n",
      "\n",
      "\n",
      "\n",
      "\n",
      "\n",
      "AspenTech Enterprise Insights\n",
      "\n",
      "\n",
      "Introduction\n",
      "The purpose of this document is to provide a Use Case for logistics booking system, specifically scheduling and managing vessels mooring at Jetties.\n",
      "Page 1 - Shipping Management System Introduction – Internal only\n",
      "What it is?\n",
      "Solution to schedule and manage vessels mooring at Jetties. Facilitates booking importation and exportation shipments into the system \n",
      "How is it used?\n",
      "Quickly create bookings within the solution to manage the vessel movements\n",
      "Effortlessly display a calendar of vessel bookings within the control room\n",
      "Simply manage Mooring times to facilitate reductions in Laycan charges\n",
      "Who is the solution suitable for?\n",
      "Anyone looking to management vessel or vehicle movements\n",
      "How to do the demo – what to show & what needs setting up\n",
      "Step by step how to deliver & examples of each area of the demo\n",
      "Indicate if can be Packaged Solution\n",
      "Indicate rough estimate of hours if based on Demo with minor customisation for customer’s terminology & data sources\n",
      "Page 2 – Customer Use case\n",
      "Customer challenge to resolve\n",
      "Replace existing system which was being decommissioned\n",
      "Reduce Laycan charges\n",
      "Provide a planning horizon into vessel movements\n",
      "Customer’s vision\n",
      "Solution must contain the essential fields for a booking from their existing system\n",
      "Customer’s attained the following benefits/value from the solution\n",
      "Provide a seamless transition from the existing booking system to the AspenTech solution \n",
      "Import data from the current system into AspenTech Enterprise Insights to provide continuity of service\n",
      "Minimize charges due to missed Laycan times\n",
      "Provide increased visibility of vessel movements\n",
      "Enable designated Solution Administrators to maintain Booking System enhancements from now on\n",
      "Increased collaboration between the many different teams involved in the booking and planning / scheduling process\n",
      "Pages 3-6 – Shipping Demo\n",
      "Calendar view\n",
      "At-a-glance view of vessels booked onto each Jetty\n",
      "Easily change time-period views – 3 days, 1 week, 1 month or 1 year\n",
      "Vessel Booking workflow\n",
      "Simply schedule new bookings or manage existing ones\n",
      "Self-service Administration\n",
      "Painlessly maintain the system – Administrators only\n",
      "Page 7\n",
      "Next steps - includes\n",
      "PoC or Pilot using customer’s data via excel & data uploads\n",
      "Project Implementation\n",
      "Site Assessment\n",
      "Workshop to review business requirements\n"
     ]
    }
   ],
   "source": [
    "readWordFile(\"C:\\Temp\\Python\\dest\\Logistics system - v2.docx\")"
   ]
  },
  {
   "cell_type": "code",
   "execution_count": null,
   "id": "f5173584",
   "metadata": {},
   "outputs": [],
   "source": []
  },
  {
   "cell_type": "code",
   "execution_count": 32,
   "id": "31839ff6",
   "metadata": {},
   "outputs": [],
   "source": [
    "#18 . write a function which can help you to filter only word file from a directory "
   ]
  },
  {
   "cell_type": "code",
   "execution_count": 48,
   "id": "03347b17",
   "metadata": {},
   "outputs": [],
   "source": [
    "def filterWordFile(srcDir):\n",
    "    \"\"\"Function will filter word file from directory\"\"\"\n",
    "    import os\n",
    "    import fnmatch\n",
    "    for file in os.listdir(srcDir):\n",
    "        if fnmatch.fnmatch(file,'*.docx'):\n",
    "            print(file)\n",
    "        "
   ]
  },
  {
   "cell_type": "code",
   "execution_count": 49,
   "id": "90486013",
   "metadata": {},
   "outputs": [
    {
     "name": "stdout",
     "output_type": "stream",
     "text": [
      "Logistics system - v2.docx\n"
     ]
    }
   ],
   "source": [
    "filterWordFile(\"C:/Temp/Python/dest/\")"
   ]
  },
  {
   "cell_type": "code",
   "execution_count": null,
   "id": "a6a78573",
   "metadata": {},
   "outputs": [],
   "source": []
  },
  {
   "cell_type": "code",
   "execution_count": 51,
   "id": "9f489fef",
   "metadata": {},
   "outputs": [],
   "source": [
    "#19.write a function by which you can print an ip address of your system . "
   ]
  },
  {
   "cell_type": "code",
   "execution_count": 52,
   "id": "1f508562",
   "metadata": {},
   "outputs": [],
   "source": [
    "def getSystemIP():\n",
    "    \"\"\"Function displays HostName and IP address of the system\"\"\"\n",
    "    import socket\n",
    "    hostname = socket.gethostname()\n",
    "    IPAddr = socket.gethostbyname(hostname)\n",
    "    print(\"Your computer Name is:\", hostname)\n",
    "    print(\"Your computer IP address is:\",IPAddr)"
   ]
  },
  {
   "cell_type": "code",
   "execution_count": 53,
   "id": "d1718a38",
   "metadata": {},
   "outputs": [
    {
     "name": "stdout",
     "output_type": "stream",
     "text": [
      "Your computer Name is: MES_V12_AIoT\n",
      "Your computer IP address is: 172.28.212.57\n"
     ]
    }
   ],
   "source": [
    "getSystemIP()"
   ]
  },
  {
   "cell_type": "code",
   "execution_count": null,
   "id": "fa829991",
   "metadata": {},
   "outputs": [],
   "source": []
  },
  {
   "cell_type": "code",
   "execution_count": 54,
   "id": "45530e92",
   "metadata": {},
   "outputs": [],
   "source": [
    "#20.write a function by which you will be able to append two PDF files . "
   ]
  },
  {
   "cell_type": "code",
   "execution_count": 75,
   "id": "ad9dc097",
   "metadata": {},
   "outputs": [],
   "source": [
    "def mergePDFFiles(pdfFiles,outputPDF):\n",
    "    \"\"\"Function will merge multiple pdf files\"\"\"\n",
    "    import PyPDF2\n",
    "    \n",
    "    #Create pdf file merger object\n",
    "    pdfMerger = PyPDF2.PdfFileMerger()\n",
    "    \n",
    "    #append pdfs one by one\n",
    "    for pdf in pdfFiles:\n",
    "        pdfMerger.append(pdf)\n",
    "        #print(pdf)\n",
    "        \n",
    "    #write combined pdf to output pdf file\n",
    "    with open(outputPDF,'wb') as f:\n",
    "        pdfMerger.write(f)"
   ]
  },
  {
   "cell_type": "code",
   "execution_count": 77,
   "id": "5181ab9c",
   "metadata": {},
   "outputs": [],
   "source": [
    "pdfs = ['C:/Temp/Python/dest/mMDM Dynamic SQL Query Example.pdf','C:/Temp/Python/dest/Configuring mMDM to use Dynamic Data.pdf']\n",
    "mergePDFFiles(pdfs,\"C:/Temp/Python/dest/CombinedPDF.pdf\")"
   ]
  },
  {
   "cell_type": "code",
   "execution_count": null,
   "id": "189d1e82",
   "metadata": {},
   "outputs": [],
   "source": []
  },
  {
   "cell_type": "code",
   "execution_count": 1,
   "id": "c5657c37",
   "metadata": {},
   "outputs": [],
   "source": [
    "#14 .write a function which will be able to shutdonw your system . "
   ]
  },
  {
   "cell_type": "code",
   "execution_count": 2,
   "id": "d734ff59",
   "metadata": {},
   "outputs": [],
   "source": [
    "def shutdownSystem():\n",
    "    \"\"\"This function shutdown system up on call\"\"\"\n",
    "    import os\n",
    "    shutdown = input(\"Do you wish to shutdown your computer? (yes/no)\")\n",
    "    if shutdown == 'no':\n",
    "        exit()\n",
    "    else:\n",
    "        os.system(\"shutdown /s /t 1\")\n",
    "    "
   ]
  },
  {
   "cell_type": "code",
   "execution_count": 3,
   "id": "323dc579",
   "metadata": {},
   "outputs": [
    {
     "name": "stdout",
     "output_type": "stream",
     "text": [
      "Do you wish to shutdown your computer? (yes/no)no\n"
     ]
    }
   ],
   "source": [
    "shutdownSystem()"
   ]
  },
  {
   "cell_type": "code",
   "execution_count": null,
   "id": "982f8c00",
   "metadata": {},
   "outputs": [],
   "source": []
  }
 ],
 "metadata": {
  "kernelspec": {
   "display_name": "Python 3 (ipykernel)",
   "language": "python",
   "name": "python3"
  },
  "language_info": {
   "codemirror_mode": {
    "name": "ipython",
    "version": 3
   },
   "file_extension": ".py",
   "mimetype": "text/x-python",
   "name": "python",
   "nbconvert_exporter": "python",
   "pygments_lexer": "ipython3",
   "version": "3.9.7"
  }
 },
 "nbformat": 4,
 "nbformat_minor": 5
}
