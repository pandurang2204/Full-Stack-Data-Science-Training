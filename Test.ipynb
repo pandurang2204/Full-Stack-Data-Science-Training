{
 "cells": [
  {
   "cell_type": "code",
   "execution_count": 1,
   "id": "9e156007",
   "metadata": {},
   "outputs": [
    {
     "data": {
      "text/plain": [
       "23"
      ]
     },
     "execution_count": 1,
     "metadata": {},
     "output_type": "execute_result"
    }
   ],
   "source": [
    "1+22"
   ]
  },
  {
   "cell_type": "code",
   "execution_count": 2,
   "id": "4cf0fe23",
   "metadata": {},
   "outputs": [
    {
     "data": {
      "text/plain": [
       "'Pandurang'"
      ]
     },
     "execution_count": 2,
     "metadata": {},
     "output_type": "execute_result"
    }
   ],
   "source": [
    "\"Pandurang\""
   ]
  },
  {
   "cell_type": "code",
   "execution_count": 3,
   "id": "51faf469",
   "metadata": {},
   "outputs": [
    {
     "data": {
      "text/plain": [
       "'pandurangmotar'"
      ]
     },
     "execution_count": 3,
     "metadata": {},
     "output_type": "execute_result"
    }
   ],
   "source": [
    "\"pandurang\"+\"motar\""
   ]
  },
  {
   "cell_type": "code",
   "execution_count": null,
   "id": "2b7da072",
   "metadata": {},
   "outputs": [],
   "source": []
  }
 ],
 "metadata": {
  "kernelspec": {
   "display_name": "Python 3 (ipykernel)",
   "language": "python",
   "name": "python3"
  },
  "language_info": {
   "codemirror_mode": {
    "name": "ipython",
    "version": 3
   },
   "file_extension": ".py",
   "mimetype": "text/x-python",
   "name": "python",
   "nbconvert_exporter": "python",
   "pygments_lexer": "ipython3",
   "version": "3.9.7"
  }
 },
 "nbformat": 4,
 "nbformat_minor": 5
}
